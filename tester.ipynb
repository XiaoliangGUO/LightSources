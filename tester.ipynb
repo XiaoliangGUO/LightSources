{
 "cells": [
  {
   "cell_type": "markdown",
   "metadata": {},
   "source": [
    "#    <center>Informatique tc3 (Projet Web) - TD4</center>"
   ]
  },
  {
   "cell_type": "markdown",
   "metadata": {},
   "source": [
    "## <center style=\"color: #66d\">Développement d'interfaces Web</center>"
   ]
  },
  {
   "cell_type": "markdown",
   "metadata": {},
   "source": [
    "### 1. Modalité pratiques pour le développement d'interfaces Web\n",
    "\n",
    "#### a) Via le code source du notebook"
   ]
  },
  {
   "cell_type": "markdown",
   "metadata": {},
   "source": [
    "Il est possible d'inclure du code HTML directement dans le code source d'une cellule texte d'un notebook.\n",
    "\n",
    "Essayez : c'est simple, il suffit d'écrire des balises dans une zone de texte <i>(Markdown)</i>.<br>\n",
    "Si vous manquez <span style=\"color:red\">d'inspiration</span>, vérifiez simplement comment <em>CE TEXTE</em> a été mis en italiques, ou <strong>CELUI-CI</strong> en gras, en regardant simplement le code source de la cellule.\n",
    "\n",
    "Cette possibilité est pratique pour modifier facilement la présentation du texte d'un notebook, mais ne permettra pas de développer facilement une interface pour une application."
   ]
  },
  {
   "cell_type": "markdown",
   "metadata": {},
   "source": [
    "#### b) Via le module IPython HTML\n",
    "\n",
    "Cette seconde méthode est nettement plus adaptée pour tester une interface en cours de développement. C'est la méthode préconisée tout au long de ce TD"
   ]
  },
  {
   "cell_type": "code",
   "execution_count": 1,
   "metadata": {},
   "outputs": [
    {
     "data": {
      "text/html": [
       "   <div style=\"background-color: #fef; border: 1px solid #cac; border-radius: 5px; padding: 0.5em\">   texte généré via python   </div> "
      ],
      "text/plain": [
       "<IPython.core.display.HTML object>"
      ]
     },
     "execution_count": 1,
     "metadata": {},
     "output_type": "execute_result"
    }
   ],
   "source": [
    "from IPython.core.display import HTML\n",
    "\n",
    "source_code = ' \\\n",
    "  <div style=\"background-color: #fef; border: 1px solid #cac; border-radius: 5px; padding: 0.5em\"> \\\n",
    "  texte généré via python \\\n",
    "  </div> \\\n",
    "'\n",
    "HTML(source_code)"
   ]
  },
  {
   "cell_type": "markdown",
   "metadata": {},
   "source": [
    "#### c) En développant vos propres pages html\n",
    "\n",
    "<div style=\"background-color:#fee;padding:10px;border-radius:3px;margin-top:1.33em\">\n",
    "C'est la méthode que vous devrez obligatoirement utiliser pour votre projet.\n",
    "</div>"
   ]
  },
  {
   "cell_type": "markdown",
   "metadata": {},
   "source": [
    "### 2. Interface de choix d'une image\n",
    "\n",
    "La base de données <tt>rtserver.sqlite</tt> fournie pour ce TD contient les trois scènes déjà vues lors du TD précédent, et les images correspondantes se trouvent dans le répertoire <tt>client/images</tt>.\n",
    "\n",
    "<div style=\"background-color:#fee;padding:10px;border-radius:3px;margin-top:1.33em\">\n",
    "__N.B.__ Pour obtenir le fonctionnement requis, il est absolument nécessaire d'utiliser le serveur <tt>rtserver.py</tt> fourni pour ce TD, qui implémente l'ensemble des développements suggérés pour le TD précédent, voire un peu plus...\n",
    "</div>\n",
    "\n",
    "#### 2.1 Affichage d'une image obtenue via le serveur de TD\n",
    "\n",
    "__Q1. Afficher une image :__\n",
    "<div style=\"background-color:#eef;padding:10px;border-radius:3px\">\n",
    "Démarrer le serveur et afficher dans le notebook une des trois images fournies pour ce TD, via le module HTML et une balise <tt>&lt;img&gt;</tt> appropriée, faisant appel au serveur pour obtenir l'image...\n",
    "<br><br>\n",
    "<b>N.B.</b> Pour que l'image soit servie par votre serveur (et non le serveur de notebook) il faut que son URL commence par <tt><span>http:</span>//localhost:8080/</tt>.<br>Ne pas oublier non plus que le répertoire <tt>client</tt> n'apparait pas dans l'URL des documents statiques.\n",
    "</div>"
   ]
  },
  {
   "cell_type": "markdown",
   "metadata": {},
   "source": [
    "#### 2.2 Affichage d'une liste de choix de scène\n",
    "\n",
    "Le serveur a été muni d'un service permettant d'obtenir la liste des scènes formattée en HTML de manière à être employée facilement dans une liste de sélection.\n",
    "\n",
    "__Q2. Obtenir la liste des scènes :__\n",
    "<div style=\"background-color:#eef;padding:10px;border-radius:3px\">\n",
    "Récupérer la fonction <i>wget()</i> utilisée lors du TD précédent et la modifier le cas échéant pour visualiser\n",
    "la réponse du serveur à une requête <tt>GET</tt> à l'adresse <tt>/service/image</tt> avec une entête HTTP <tt>Accept:&nbsp;text/html</tt>\n",
    "<br>\n",
    "<br>\n",
    "__N.B.__ pour afficher la réponse, il sera nécessaire de la convertir au format texte par un appel à la fonction <tt>str(reponse,'utf-8')</tt>\n",
    "</div>"
   ]
  },
  {
   "cell_type": "code",
   "execution_count": 15,
   "metadata": {
    "util.bundle": "correcteur"
   },
   "outputs": [],
   "source": [
    "import http.client\n",
    "import json\n",
    "\n",
    "def request(method,url,body='',headers={}):\n",
    "    conn = http.client.HTTPConnection('localhost:8080')\n",
    "    conn.request(method,url,body,headers)\n",
    "    response = conn.getresponse()\n",
    "    if not response.status == 200:\n",
    "        print(\"{} - {}\".format(response.status,response.reason))\n",
    "    else:\n",
    "        content = response.read().decode(\"utf-8\")\n",
    "        try:\n",
    "            content = json.loads(response.read().decode(\"utf-8\"))\n",
    "        except json.decoder.JSONDecodeError:\n",
    "            pass\n",
    "        finally:\n",
    "            return content"
   ]
  },
  {
   "cell_type": "code",
   "execution_count": 17,
   "metadata": {},
   "outputs": [],
   "source": [
    "data = json.loads(request(\"GET\", \"/service/scene/test_cube\"))\n",
    "filename = data[\"filename\"]"
   ]
  },
  {
   "cell_type": "code",
   "execution_count": 20,
   "metadata": {},
   "outputs": [
    {
     "data": {
      "text/html": [
       "<img src='client/images/test_cube.png' style='margin:auto'/>"
      ],
      "text/plain": [
       "<IPython.core.display.HTML object>"
      ]
     },
     "execution_count": 20,
     "metadata": {},
     "output_type": "execute_result"
    }
   ],
   "source": [
    "HTML(\"<img src='%s' style='margin:auto'/>\" % filename)"
   ]
  },
  {
   "cell_type": "markdown",
   "metadata": {},
   "source": [
    "__Q3. Afficher une liste de sélection avec les scènes :__\n",
    "<div style=\"background-color:#eef;padding:10px;border-radius:3px\">\n",
    "Toujours à l'aide du module HTML, afficher une liste de sélection (balise <tt>select</tt>) dont le contenu sera obtenu par\n",
    "une requête à l'adresse précédente.\n",
    "</div>"
   ]
  },
  {
   "cell_type": "code",
   "execution_count": 28,
   "metadata": {
    "util.bundle": "correcteur"
   },
   "outputs": [
    {
     "data": {
      "text/html": [
       "<select onchange='image.src=this.value'><option value='client/images/test_checkered_plane.png'>test_checkered_plane</option><option value='client/images/test_cube.png'>test_cube</option><option value='client/images/test_polygon.png'>test_polygon</option></select><br><img id='image'>"
      ],
      "text/plain": [
       "<IPython.core.display.HTML object>"
      ]
     },
     "execution_count": 28,
     "metadata": {},
     "output_type": "execute_result"
    }
   ],
   "source": [
    "html = \"<select onchange='image.src=this.value'>\"\n",
    "scenes = json.loads(request(\"GET\", \"/service/scene\"))\n",
    "for scene in scenes:\n",
    "    html += \"<option value='%s'>%s</option>\" % (scene[\"filename\"], scene[\"name\"])\n",
    "html += \"</select>\"\n",
    "html += \"<br>\"\n",
    "html += \"<img id='image'>\"\n",
    "HTML(html)"
   ]
  },
  {
   "cell_type": "markdown",
   "metadata": {},
   "source": [
    "#### 2.3 Affichage dynamique d'une image\n",
    "\n",
    "Pour afficher automagiquement l'image sélectionnée, un peu de code javascript est nécessaire.\n",
    "\n",
    "__Q4. Afficher dynamiquement l'image choisie :__\n",
    "<div style=\"background-color:#eef;padding:10px;border-radius:3px\">\n",
    "Réitérer le travail effectué pour la question 2, puis :\n",
    "<ul style=\"margin-top:0\">\n",
    "<li style=\"margin-top:0\">ajouter au code HTML une balise <tt>&lt;img id=\"image1\"&gt;</tt>,\n",
    "<li style=\"margin-top:0\">ajouter à la balise <tt>select</tt> un attribut <tt>onchange=\"image1.src = '<span>http:</span>//localhost:8080'+this.value\"</tt>\n",
    "</ul>\n",
    "<br>\n",
    "et profiter du résultat...\n",
    "</div>"
   ]
  },
  {
   "cell_type": "markdown",
   "metadata": {},
   "source": [
    "## 3. Modification et recalcul de la scène\n",
    "\n",
    "Cette partie était facile, car le code renvoyé par le serveur était du code HTML. Il suffisait donc de le récupérer et de l'intégrer tel quel dans l'interface.\n",
    "\n",
    "Pour modifier une scène, il va falloir récupérer sa description sérialisée au format JSON (cf. TD précédent) et la désérialiser en javascript pour obtenir un objet (en javascript les dictionnaires et les objets sont équivalents).\n",
    "La modification de cet objet pourra ensuite être effectuée (toujours en javascript). Pour l'enregistrer en base de données et générer l'image correspondante il faudra ensuite re-sérialiser l'objet et soumettre la modification au serveur.\n",
    "\n",
    "On se propose dans la suite de créer une interface opérationnelle permettant de modifier la couleur de la source de lumière d'une scène donnée.\n",
    "\n",
    "### 3.1 Mise en place de l'interface\n",
    "\n",
    "Le code HTML est classique. Il comporte une image, trois actionneurs permettant de modifier les trois composantes de couleur, et des zones de texte pour afficher le nom de la couleur et plus tard sa valeur :"
   ]
  },
  {
   "cell_type": "code",
   "execution_count": 5,
   "metadata": {},
   "outputs": [
    {
     "data": {
      "text/html": [
       "<img id=\"image2\" style=\"margin-bottom: 1em; width: 200px; height: 150px; border: 1px solid #ccc;\"> <input type=\"range\" id=\"rin\" min=\"0\" max=\"1\" step=\"0.1\" style=\"width:200px; display: inline; position: relative; top: 5px\"> <span style=\"display: inline-block; width: 4em;\">rouge</span><span id=\"rin_value\"></span><br> <input type=\"range\" id=\"gin\" min=\"0\" max=\"1\" step=\"0.1\" style=\"width:200px; display: inline; position: relative; top: 5px\"> <span style=\"display: inline-block; width: 4em;\">vert</span><span id=\"gin_value\"></span><br> <input type=\"range\" id=\"bin\" min=\"0\" max=\"1\" step=\"0.1\" style=\"width:200px; display: inline; position: relative; top: 5px\"> <span style=\"display: inline-block; width: 4em;\">bleu</span><span id=\"bin_value\"></span><br> "
      ],
      "text/plain": [
       "<IPython.core.display.HTML object>"
      ]
     },
     "execution_count": 5,
     "metadata": {},
     "output_type": "execute_result"
    }
   ],
   "source": [
    "img_style = 'style=\"margin-bottom: 1em; width: 200px; height: 150px; border: 1px solid #ccc;\"'\n",
    "input_style = 'style=\"width:200px; display: inline; position: relative; top: 5px\"'\n",
    "span_style = 'style=\"display: inline-block; width: 4em;\"'\n",
    "html = '\\\n",
    "<img id=\"image2\" %ims> \\\n",
    "<input type=\"range\" id=\"rin\" min=\"0\" max=\"1\" step=\"0.1\" %is> <span %ss>rouge</span><span id=\"rin_value\"></span><br> \\\n",
    "<input type=\"range\" id=\"gin\" min=\"0\" max=\"1\" step=\"0.1\" %is> <span %ss>vert</span><span id=\"gin_value\"></span><br> \\\n",
    "<input type=\"range\" id=\"bin\" min=\"0\" max=\"1\" step=\"0.1\" %is> <span %ss>bleu</span><span id=\"bin_value\"></span><br> \\\n",
    "'.replace('%ims',img_style).replace('%is',input_style).replace('%ss',span_style)\n",
    "HTML(html)"
   ]
  },
  {
   "cell_type": "markdown",
   "metadata": {},
   "source": [
    "### 3.2 Chargement de l'image\n",
    "\n",
    "Le chargement de l'image se fait comme précédemment, au détail près que l'on a maintenant nommé la fonction <tt>update_image</tt> permettant d'afficher l'image à l'obtention de la réponse HTTP.\n",
    "\n",
    "Noter également que l'on construit l'URL de l'image à charger en ajoutant une chaîne de requête aléatoire (cf. la ligne javascript avec <tt>Math.random()</tt>), afin d'obliger le navigateur à effectivement recharger l'image à chaque fois que l'on exécute ce code. Sans cette astuce, comme le nom de l'image ne change pas, le navigateur ne la rechargerait pas après qu'elle ait été recalculée."
   ]
  },
  {
   "cell_type": "code",
   "execution_count": 29,
   "metadata": {},
   "outputs": [
    {
     "data": {
      "text/html": [
       " <script>   var localhost = \"http://localhost:8080\";   var r = new XMLHttpRequest();   update_image = function() {     data = JSON.parse(this.responseText);     scene = JSON.parse(data.serial);    image2.src = localhost + data.url + \"?\" + Math.random();     rin_value.innerHTML = rin.value = scene.sources[0].color.r.toFixed(1);     gin_value.innerHTML = gin.value = scene.sources[0].color.g.toFixed(1);     bin_value.innerHTML = bin.value = scene.sources[0].color.b.toFixed(1);   };   r.onload = update_image;   r.open(\"GET\",localhost + \"/service/scene/1\",true);   r.send(); </script>"
      ],
      "text/plain": [
       "<IPython.core.display.HTML object>"
      ]
     },
     "execution_count": 29,
     "metadata": {},
     "output_type": "execute_result"
    }
   ],
   "source": [
    "html = ' \\\n",
    "<script> \\\n",
    "  var localhost = \"http://localhost:8080\"; \\\n",
    "  var r = new XMLHttpRequest(); \\\n",
    "  update_image = function() { \\\n",
    "    data = JSON.parse(this.responseText); \\\n",
    "    scene = JSON.parse(data.serial);\\\n",
    "    image2.src = localhost + data.url + \"?\" + Math.random(); \\\n",
    "    rin_value.innerHTML = rin.value = scene.sources[0].color.r.toFixed(1); \\\n",
    "    gin_value.innerHTML = gin.value = scene.sources[0].color.g.toFixed(1); \\\n",
    "    bin_value.innerHTML = bin.value = scene.sources[0].color.b.toFixed(1); \\\n",
    "  }; \\\n",
    "  r.onload = update_image; \\\n",
    "  r.open(\"GET\",localhost + \"/service/scene/1\",true); \\\n",
    "  r.send(); \\\n",
    "</script>'\n",
    "HTML(html)"
   ]
  },
  {
   "cell_type": "markdown",
   "metadata": {},
   "source": [
    "### 3.3 Interactivité et recalcul de l'image\n",
    "\n",
    "L'interactivité se met en place en écrivant un gestionnaire d'événement pour les trois actionneurs. Lors d'un déplacement de l'un des curseurs, le gestionnaire d'événement doit :\n",
    "<ul style=\"margin-top:0\">\n",
    "<li style=\"margin-top:0\">mettre à jour la valeur affichée dans le <tt>span</tt>,\n",
    "<li style=\"margin-top:0\">et soumettre une requête au serveur pour recalculer l'image.\n",
    "</ul>\n",
    "\n",
    "Lorsque l'image aura été recalculée, c'est à dire à l'obtention de la réponse HTTP, il suffira d'appeler la fonction <tt>update_image</tt> :"
   ]
  },
  {
   "cell_type": "code",
   "execution_count": 30,
   "metadata": {},
   "outputs": [
    {
     "data": {
      "text/html": [
       " <script>   rin.onchange = bin.onchange = gin.onchange = function() {     scene.sources[0].color.r = parseFloat(rin.value);     scene.sources[0].color.g = parseFloat(gin.value);     scene.sources[0].color.b = parseFloat(bin.value);     body = JSON.stringify({operation: \"update\", serial:JSON.stringify(scene)});     var r = new XMLHttpRequest();     r.onload = update_image;     r.open(\"POST\",localhost + \"/service/scene/1\",true);     r.send(body);     console.log(body);   }; </script> "
      ],
      "text/plain": [
       "<IPython.core.display.HTML object>"
      ]
     },
     "execution_count": 30,
     "metadata": {},
     "output_type": "execute_result"
    }
   ],
   "source": [
    "html = ' \\\n",
    "<script> \\\n",
    "  rin.onchange = bin.onchange = gin.onchange = function() { \\\n",
    "    scene.sources[0].color.r = parseFloat(rin.value); \\\n",
    "    scene.sources[0].color.g = parseFloat(gin.value); \\\n",
    "    scene.sources[0].color.b = parseFloat(bin.value); \\\n",
    "    body = JSON.stringify({operation: \"update\", serial:JSON.stringify(scene)}); \\\n",
    "    var r = new XMLHttpRequest(); \\\n",
    "    r.onload = update_image; \\\n",
    "    r.open(\"POST\",localhost + \"/service/scene/1\",true); \\\n",
    "    r.send(body); \\\n",
    "    console.log(body); \\\n",
    "  }; \\\n",
    "</script> \\\n",
    "'\n",
    "HTML(html)"
   ]
  },
  {
   "cell_type": "markdown",
   "metadata": {},
   "source": [
    "Vérifiez en déplaçant les curseurs, maintenant l'image se met à jour !"
   ]
  },
  {
   "cell_type": "markdown",
   "metadata": {},
   "source": [
    "## 4. Passage en vraie grandeur\n",
    "\n",
    "Si l'écriture d'une interface Web via un notebook Python est possible (nous venons de le démontrer) il n'en reste pas moins que cette approche ne permet pas de développer une application à part entière.\n",
    "\n",
    "Pour cela il va falloir créer un document html avec le code html, css, et javascript mis en oeuvre au long du chapitre 3. ci-dessus. Votre document s'appelera <tt>eclairage.html</tt> et se trouvera dans le répertoire <tt>/client</tt>.\n",
    "\n",
    "__Q5. Développer un document html pour modifier l'éclairage de la scène n°1 :__\n",
    "<div style=\"background-color:#eef;padding:10px;border-radius:3px\">\n",
    "Récupérer et mettre en forme le code présenté ci-dessus pour en faire un document autonome exécutable directement dans un navigateur.\n",
    "<br><br>\n",
    "Si tout se passe bien, il devrait fonctionner à l'adresse <a href=\"http://localhost:8080/eclairage.html\">http://localhost:8080/eclairage.html</a>.\n",
    "</div>\n",
    "\n",
    "__Q6. Développer un document html pour modifier l'éclairage des scènes connues :__\n",
    "<div style=\"background-color:#eef;padding:10px;border-radius:3px\">\n",
    "Après avoir effectué une copie du précédent cette fois-ci nommée <tt>eclairage_scenes.html</tt>,\n",
    "modifier le programme pour récupérer la liste des scènes et pouvoir choisir celle dont on modifie l'éclairage.\n",
    "<br><br>\n",
    "Si tout se passe bien, il devrait fonctionner à l'adresse <a href=\"http://localhost:8080/eclairage_scenes.html\">http://localhost:8080/eclairage_scenes.html</a>.\n",
    "</div>\n"
   ]
  },
  {
   "cell_type": "markdown",
   "metadata": {},
   "source": [
    "<img src=\"eclairage.png\" width=\"300\">\n",
    "<center><a href=\"eclairage.png\">Exemple d'interface</a></center>"
   ]
  },
  {
   "cell_type": "code",
   "execution_count": 8,
   "metadata": {},
   "outputs": [],
   "source": [
    "# Initialisation de la base de données\n",
    "import sqlite3\n",
    "conn = sqlite3.connect('rtserver.sqlite')\n",
    "c = conn.cursor()\n",
    "\n",
    "c.execute(\"DROP TABLE IF EXISTS scene\")\n",
    "c.execute(\"CREATE TABLE scene ( \\\n",
    "  id INTEGER PRIMARY KEY, \\\n",
    "  name TEXT UNIQUE NOT NULL, \\\n",
    "  serial TEXT NOT NULL, \\\n",
    "  width INTEGER,  \\\n",
    "  height INTEGER, \\\n",
    "  ptime REAL, \\\n",
    "  filename TEXT )\")\n",
    "\n",
    "plane = [\n",
    "    \"test_checkered_plane\",\n",
    "    '{\"_class_\": \"Scene\", \"name\": \"test_checkered_plane\", \"ambient\": {\"_class_\": \"rgb\", \"r\": 0, \"g\": 0, \"b\": 0}, \\\n",
    "\"max_bounce\": 3, \"faraway\": 1e+39, \"sources\": [{\"_class_\": \"LightSource\", \"position\": {\"_class_\": \"vec3\", \"x\": 0, \\\n",
    "\"y\": 10, \"z\": -5}, \"color\": {\"_class_\": \"rgb\", \"r\": 1, \"g\": 1, \"b\": 1}}], \"objects\": [{\"_class_\": \"CheckeredPlane\", \\\n",
    "\"position\": {\"_class_\": \"vec3\", \"x\": 0, \"y\": -0.5, \"z\": 0}, \"normal\": {\"_class_\": \"vec3\", \"x\": 0.0, \"y\": 1.0, \\\n",
    "\"z\": 0.0}, \"diffuse\": [{\"_class_\": \"rgb\", \"r\": 0.1, \"g\": 0.1, \"b\": 0.1}, {\"_class_\": \"rgb\", \"r\": 0.9, \"g\": 0.9, \\\n",
    "\"b\": 0.9}], \"ambient\": [{\"_class_\": \"rgb\", \"r\": 1.0, \"g\": 1.0, \"b\": 1.0}, {\"_class_\": \"rgb\", \"r\": 1.0, \"g\": 1.0, \\\n",
    "\"b\": 1.0}], \"specular\": [{\"_class_\": \"rgb\", \"r\": 0.5, \"g\": 0.5, \"b\": 0.5}, {\"_class_\": \"rgb\", \"r\": 0.5, \"g\": 0.5, \\\n",
    "\"b\": 0.5}], \"phong\": [70, 70], \"mirror\": [{\"_class_\": \"rgb\", \"r\": 0.5, \"g\": 0.5, \"b\": 0.5}, {\"_class_\": \"rgb\", \\\n",
    "\"r\": 0.5, \"g\": 0.5, \"b\": 0.5}], \"selector\": \\\n",
    "\"def selector(self,M):\\\\n  return ((M.x * 2 - 1000.5).astype(int) % 2) == ((M.z * 0.5 + 1000.5).astype(int) % 2)\"}], \\\n",
    "\"width\": 400, \"height\": 300, \"camera\": {\"_class_\": \"vec3\", \"x\": 0.0, \"y\": 0.1, \"z\": -10.0}}',\n",
    "    400, 300,\n",
    "    0.062,\n",
    "    \"client/images/test_checkered_plane.png\" \n",
    "]\n",
    "cube = [\n",
    "    \"test_cube\",\n",
    "    '{\"_class_\": \"Scene\", \"name\": \"test_cube\", \"ambient\": {\"_class_\": \"rgb\", \"r\": 0, \"g\": 0, \"b\": 0}, \\\n",
    "\"max_bounce\": 3, \"faraway\": 1e+39, \"sources\": [{\"_class_\": \"LightSource\", \"position\": {\"_class_\": \"vec3\", \\\n",
    "\"x\": 0, \"y\": 0, \"z\": -5}, \"color\": {\"_class_\": \"rgb\", \"r\": 1, \"g\": 1, \"b\": 1}}], \"objects\": [{\"_class_\": \\\n",
    "\"Cube\", \"center\": {\"_class_\": \"vec3\", \"x\": 0, \"y\": -0.1, \"z\": 1}, \"U\": {\"_class_\": \"vec3\", \"x\": 0.5000000000000001,\\\n",
    "\"y\": 0.7071067811865476, \"z\": -0.5000000000000001}, \"V\": {\"_class_\": \"vec3\", \"x\": 0.7071067811865476, \"y\": 0.0, \\\n",
    "\"z\": 0.7071067811865476}, \"width\": 0.4, \"diffuse\": [{\"_class_\": \"rgb\", \"r\": 0.5, \"g\": 0, \"b\": 0.5}, {\"_class_\": \"rgb\",\\\n",
    "\"r\": 0.5, \"g\": 0.5, \"b\": 0}, {\"_class_\": \"rgb\", \"r\": 0, \"g\": 0.5, \"b\": 0.5}, {\"_class_\": \"rgb\", \"r\": 0.75, \\\n",
    "\"g\": 0, \"b\": 0}, {\"_class_\": \"rgb\", \"r\": 0, \"g\": 0.75, \"b\": 0}, {\"_class_\": \"rgb\", \"r\": 0, \"g\": 0, \"b\": 0.75}], \\\n",
    "\"ambient\": [{\"_class_\": \"rgb\", \"r\": 1.0, \"g\": 1.0, \"b\": 1.0}, {\"_class_\": \"rgb\", \"r\": 1.0, \"g\": 1.0, \"b\": 1.0}, \\\n",
    "{\"_class_\": \"rgb\", \"r\": 1.0, \"g\": 1.0, \"b\": 1.0}, {\"_class_\": \"rgb\", \"r\": 1.0, \"g\": 1.0, \"b\": 1.0}, {\"_class_\": \\\n",
    "\"rgb\", \"r\": 1.0, \"g\": 1.0, \"b\": 1.0}, {\"_class_\": \"rgb\", \"r\": 1.0, \"g\": 1.0, \"b\": 1.0}], \"specular\": [{\"_class_\": \\\n",
    "\"rgb\", \"r\": 0.5, \"g\": 0.5, \"b\": 0.5}, {\"_class_\": \"rgb\", \"r\": 0.5, \"g\": 0.5, \"b\": 0.5}, {\"_class_\": \"rgb\", \"r\": 0.5, \\\n",
    "\"g\": 0.5, \"b\": 0.5}, {\"_class_\": \"rgb\", \"r\": 0.5, \"g\": 0.5, \"b\": 0.5}, {\"_class_\": \"rgb\", \"r\": 0.5, \"g\": 0.5, \\\n",
    "\"b\": 0.5}, {\"_class_\": \"rgb\", \"r\": 0.5, \"g\": 0.5, \"b\": 0.5}], \"phong\": [140, 140, 140, 140, 140, 140], \"mirror\": \\\n",
    "[{\"_class_\": \"rgb\", \"r\": 0.3, \"g\": 0.3, \"b\": 0.3}, {\"_class_\": \"rgb\", \"r\": 0.3, \"g\": 0.3, \"b\": 0.3}, {\"_class_\": \\\n",
    "\"rgb\", \"r\": 0.3, \"g\": 0.3, \"b\": 0.3}, {\"_class_\": \"rgb\", \"r\": 0.3, \"g\": 0.3, \"b\": 0.3}, {\"_class_\": \"rgb\", \\\n",
    "\"r\": 0.3, \"g\": 0.3, \"b\": 0.3}, {\"_class_\": \"rgb\", \"r\": 0.3, \"g\": 0.3, \"b\": 0.3}]}], \"width\": 400, \"height\": 300, \\\n",
    "\"camera\": {\"_class_\": \"vec3\", \"x\": 0.0, \"y\": 0.1, \"z\": -10.0}}',\n",
    "    400, 300,\n",
    "    0.141,\n",
    "    \"client/images/test_cube.png\"\n",
    "]\n",
    "polygon = [\n",
    "    'test_polygon',\n",
    "    '{\"name\": \"test_polygon\", \"_class_\": \"Scene\", \"sources\": [{\"_class_\": \"LightSource\", \"position\": {\"_class_\": \"vec3\",\\\n",
    "\"x\": 0, \"y\": 10, \"z\": -5}, \"color\": {\"_class_\": \"rgb\", \"r\": 1, \"g\": 1, \"b\": 1}}], \"objects\": [{\"_class_\": \"Polygon\", \"vertices\": [[0, 0], [0, 10], [1, 10], [1, 0]],\\\n",
    "\"position\": {\"_class_\": \"vec3\", \"x\": -0.5, \"y\": -0.5, \"z\": 1}, \"U\": {\"_class_\": \"vec3\", \"x\": 1, \"y\": 0, \"z\": 0}, \"V\":\\\n",
    "{\"_class_\": \"vec3\", \"x\": 0, \"y\": 0, \"z\": 1}, \"ns\": -1, \"diffuse\": 0.5, \"ambient\": 1.0, \"specular\": 0.5, \"phong\": 70,\\\n",
    "\"mirror\": 0.5}], \"camera\": {\"_class_\": \"vec3\", \"x\": 0.0, \"y\": 0.1, \"z\": -10.1}}',\n",
    "    400, 300, \n",
    "    0.034,\n",
    "    'client/images/test_polygon.png'\n",
    "]\n",
    "\n",
    "c.execute(\"INSERT INTO scene VALUES (NULL, ?, ?, ?, ?, ?, ?)\", plane)\n",
    "c.execute(\"INSERT INTO scene VALUES (NULL, ?, ?, ?, ?, ?, ?)\", cube)\n",
    "c.execute(\"INSERT INTO scene VALUES (NULL, ?, ?, ?, ?, ?, ?)\", polygon)\n",
    "conn.commit()"
   ]
  },
  {
   "cell_type": "code",
   "execution_count": null,
   "metadata": {},
   "outputs": [],
   "source": []
  }
 ],
 "metadata": {
  "kernelspec": {
   "display_name": "Python 3",
   "language": "python",
   "name": "python3"
  },
  "language_info": {
   "codemirror_mode": {
    "name": "ipython",
    "version": 3
   },
   "file_extension": ".py",
   "mimetype": "text/x-python",
   "name": "python",
   "nbconvert_exporter": "python",
   "pygments_lexer": "ipython3",
   "version": "3.5.2"
  }
 },
 "nbformat": 4,
 "nbformat_minor": 2
}
